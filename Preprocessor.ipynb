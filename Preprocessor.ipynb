{
 "cells": [
  {
   "cell_type": "code",
   "execution_count": 1,
   "metadata": {},
   "outputs": [],
   "source": [
    "import pandas as pd"
   ]
  },
  {
   "cell_type": "markdown",
   "metadata": {},
   "source": [
    "Load CSV files"
   ]
  },
  {
   "cell_type": "code",
   "execution_count": null,
   "metadata": {},
   "outputs": [],
   "source": [
    "dfData0 = pd.read_csv('Raw Data\\2006.csv')\n",
    "dfData1 = pd.read_csv('Raw Data\\2007.csv')\n",
    "dfPlanes = pd.read_csv('Raw Data\\plane-data.csv')\n",
    "dfPorts = pd.read_csv('Raw Data\\airports.csv')"
   ]
  },
  {
   "cell_type": "markdown",
   "metadata": {},
   "source": [
    "Merge dataframes based on 'TailNum' column"
   ]
  },
  {
   "cell_type": "code",
   "execution_count": null,
   "metadata": {},
   "outputs": [],
   "source": [
    "mergedDf = pd.merge(pd.merge(dfData0, dfData1, how='outer'), dfPlanes, how='left', on='TailNum')"
   ]
  },
  {
   "cell_type": "markdown",
   "metadata": {},
   "source": [
    "\n",
    "<br>\n",
    "CSV for parts (a) and (b)<br>\n"
   ]
  },
  {
   "cell_type": "markdown",
   "metadata": {},
   "source": [
    "Generate new dataframe with selected columns"
   ]
  },
  {
   "cell_type": "code",
   "execution_count": null,
   "metadata": {},
   "outputs": [],
   "source": [
    "newDf = mergedDf[['Year', 'Month', 'DayofMonth', 'DayOfWeek', 'CRSDepTime', 'DepTime', 'ArrDelay', 'DepDelay', 'Cancelled', 'Diverted', 'TailNum', 'year']]"
   ]
  },
  {
   "cell_type": "markdown",
   "metadata": {},
   "source": [
    "Remove rows with null or NA values or negative ArrDelay or negative DepDelay or cancelled or diverted flights"
   ]
  },
  {
   "cell_type": "code",
   "execution_count": null,
   "metadata": {},
   "outputs": [],
   "source": [
    "newDf = newDf.dropna()\n",
    "newDf = newDf[(newDf['ArrDelay'] >= 0) & (newDf['DepDelay'] >= 0) & (newDf['Cancelled'] != 1) & (newDf['Diverted'] != 1)]"
   ]
  },
  {
   "cell_type": "markdown",
   "metadata": {},
   "source": [
    "Save dataframe to CSV file"
   ]
  },
  {
   "cell_type": "code",
   "execution_count": null,
   "metadata": {},
   "outputs": [],
   "source": [
    "newDf.to_csv('PreprocessedData\\DelayData.csv', index=False)"
   ]
  },
  {
   "cell_type": "markdown",
   "metadata": {},
   "source": [
    "\n",
    "<br>\n",
    "CSV for part (c)<br>\n",
    "<br>\n",
    "Generate new dataframe with selected columns"
   ]
  },
  {
   "cell_type": "code",
   "execution_count": null,
   "metadata": {},
   "outputs": [],
   "source": [
    "newDf = None\n",
    "newDf = mergedDf[['Year', 'Month', 'DayofMonth', 'CRSDepTime', 'CRSArrTime', 'UniqueCarrier', 'Origin', 'Dest', 'Distance', 'Cancelled', 'Diverted']]"
   ]
  },
  {
   "cell_type": "markdown",
   "metadata": {},
   "source": [
    "Remove rows with null or NA values or cancelled flights"
   ]
  },
  {
   "cell_type": "code",
   "execution_count": null,
   "metadata": {},
   "outputs": [],
   "source": [
    "newDf = newDf.dropna()\n",
    "newDf = newDf[ (newDf['Cancelled'] != 1) ]"
   ]
  },
  {
   "cell_type": "markdown",
   "metadata": {},
   "source": [
    "Remove non-USA flights"
   ]
  },
  {
   "cell_type": "code",
   "execution_count": null,
   "metadata": {},
   "outputs": [],
   "source": [
    "newDf = newDf[ (newDf['Origin'] != 'YAP') & (newDf['Origin'] != 'SPN') & (newDf['Origin'] != 'ROR') & (newDf['Origin'] != 'ROP')]\n",
    "newDf = newDf[ (newDf['Dest'] != 'YAP') & (newDf['Dest'] != 'SPN') & (newDf['Dest'] != 'ROR') & (newDf['Dest'] != 'ROP')]\n",
    "newDf.rename(columns={'Origin': 'iata'}, inplace=True)\n",
    "newDf = pd.merge(newDf, dfPorts, how='left', on='iata')\n",
    "newDf.rename(columns={'iata': 'Origin', 'lat':'Origin_lat', 'long':'Origin_lon'}, inplace=True)\n",
    "newDf.rename(columns={'Dest': 'iata'}, inplace=True)\n",
    "newDf = pd.merge(newDf, dfPorts, how='left', on='iata')\n",
    "newDf.rename(columns={'iata': 'Dest', 'lat':'Dest_lat', 'long':'Dest_lon'}, inplace=True)\n",
    "newDf = newDf.drop_duplicates()\n",
    "newDf = newDf.drop(['Origin', 'Dest', 'airport_x', 'city_x', 'state_x', 'country_x', 'airport_y', 'city_y', 'state_y', 'country_y'], axis=1)\n",
    "newDf.to_csv('PreprocessedData\\DivertData.csv', index=False)"
   ]
  }
 ],
 "metadata": {
  "kernelspec": {
   "display_name": "Python 3 (ipykernel)",
   "language": "python",
   "name": "python3"
  },
  "language_info": {
   "codemirror_mode": {
    "name": "ipython",
    "version": 3
   },
   "file_extension": ".py",
   "mimetype": "text/x-python",
   "name": "python",
   "nbconvert_exporter": "python",
   "pygments_lexer": "ipython3",
   "version": "3.11.4"
  }
 },
 "nbformat": 4,
 "nbformat_minor": 2
}
